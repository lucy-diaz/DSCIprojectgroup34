{
 "cells": [
  {
   "cell_type": "markdown",
   "id": "e3901ad2-bbbc-422a-94df-b9656e64c15c",
   "metadata": {},
   "source": [
    "# Group 34: Predicting Subscription Status from Age and Play Time"
   ]
  },
  {
   "cell_type": "code",
   "execution_count": null,
   "id": "e0b59526-8206-4e22-b932-9f7e446a1001",
   "metadata": {},
   "outputs": [],
   "source": [
    "library(tidyverse)\n",
    "library(repr)\n",
    "library(tidymodels)\n",
    "library(readr)\n",
    "library(ggplot2)\n",
    "library(RColorBrewer)\n",
    "options(repr.matrix.max.rows = 6)"
   ]
  },
  {
   "cell_type": "markdown",
   "id": "d1c0c0cc-576f-44e7-9d8e-73bda058ecb5",
   "metadata": {},
   "source": [
    "## Introduction"
   ]
  },
  {
   "cell_type": "markdown",
   "id": "8265327a-4155-4447-87ff-e5162cd66601",
   "metadata": {},
   "source": [
    "As more improvements and innovations have been made in different aspects of video games such as mode and style design, video games started to play significant roles in the daily lives of individuals. A research group in the Computer Science department at the University of British Columbia (UBC), led by Professor Frank Wood, has established a Minecraft research server to collect data on how people interact within the game environment (1). Specifically, this research group collected two datasets, the players.csv summarized data about player information, and the sessions.csv which summarizes playing sessions. Our report further analyzes the data collected by this research group to investigate a specific question: Can total played hours and age predict subscription in the players.csv dataset? It is expected that players with greater played hours and a younger age would tend to subscribe the game-related newsletter.\n",
    "<br>\n",
    "<br>\n",
    "In the players.csv dataset, there are 196 observations with 7 variables, summarizing players' information on the Minecraft server. Numerical data contains played hours and player age, character data contains the level of experience on the game, hashed email (user identifier), name of the players, and gender of the players. Logical data contains the status of the subscription to a game-related newsletter."
   ]
  },
  {
   "cell_type": "markdown",
   "id": "9f19c00d-d130-4c03-8686-997eed59c633",
   "metadata": {},
   "source": [
    "## Methods"
   ]
  },
  {
   "cell_type": "markdown",
   "id": "5c0cc493-e41a-4ad8-9add-88bdda219404",
   "metadata": {},
   "source": [
    "### Wrangling"
   ]
  },
  {
   "cell_type": "code",
   "execution_count": null,
   "id": "de2d7b5a-d4b5-4c04-bcac-b9f6355f5e2d",
   "metadata": {},
   "outputs": [],
   "source": [
    "url_players <- \"https://raw.githubusercontent.com/lucy-diaz/DSCIprojectgroup34/refs/heads/main/players.csv\"\n",
    "players <- read_csv(url_players)\n",
    "players"
   ]
  },
  {
   "cell_type": "code",
   "execution_count": null,
   "id": "669cb5f7-f0e1-4006-bed3-4565165eedf2",
   "metadata": {},
   "outputs": [],
   "source": [
    "tidy_player<- players|>\n",
    "        mutate(experience = factor(experience), gender = factor(gender),subscribe=factor(subscribe))\n",
    "tidy_player\n",
    "\n",
    "clean_player<- tidy_player|>\n",
    "                select(subscribe,played_hours,Age)|>\n",
    "                filter(played_hours!=0.0)|>\n",
    "                filter(!is.na(Age))\n",
    "\n",
    "clean_player\n"
   ]
  },
  {
   "cell_type": "markdown",
   "id": "2131a94a-659b-4f91-a6fe-b5338b2cc80f",
   "metadata": {},
   "source": [
    "### Summary"
   ]
  },
  {
   "cell_type": "markdown",
   "id": "4637a0c3-f393-4c97-964d-f9cb9e948ae2",
   "metadata": {},
   "source": [
    "### Visialization of Data Set"
   ]
  },
  {
   "cell_type": "markdown",
   "id": "3cd1f6a2-dd18-44e2-92ef-7fd0b9818808",
   "metadata": {},
   "source": [
    "### Analysis"
   ]
  },
  {
   "cell_type": "markdown",
   "id": "43863b0d-b150-4ceb-9b71-72f7ef3c5cac",
   "metadata": {},
   "source": [
    "### Analysis Visualization "
   ]
  },
  {
   "cell_type": "markdown",
   "id": "a13e31bc-eb77-4d50-825d-1004e9803876",
   "metadata": {},
   "source": [
    "## Discussion\n",
    "\n",
    "### Summary of Findings\n",
    "\n",
    "### Hypothesis vs Results\n",
    "\n",
    "### Impact\n",
    "\n",
    "### Future Analysis"
   ]
  },
  {
   "cell_type": "markdown",
   "id": "ed048b4e-70cc-46fb-9450-94f0ba7d78c7",
   "metadata": {},
   "source": [
    "### Reference\n",
    "(1)The University of British Columbia. (n.d.). Retrieved March 29, 2025, from https://canvas.ubc.ca/courses/153254/assignments/2055150?module_item_id=7644030\n"
   ]
  }
 ],
 "metadata": {
  "kernelspec": {
   "display_name": "R",
   "language": "R",
   "name": "ir"
  },
  "language_info": {
   "codemirror_mode": "r",
   "file_extension": ".r",
   "mimetype": "text/x-r-source",
   "name": "R",
   "pygments_lexer": "r",
   "version": "4.3.3"
  }
 },
 "nbformat": 4,
 "nbformat_minor": 5
}
