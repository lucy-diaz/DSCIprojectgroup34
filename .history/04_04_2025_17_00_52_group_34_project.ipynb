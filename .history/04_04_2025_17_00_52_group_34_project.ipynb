{
 "cells": [
  {
   "cell_type": "markdown",
   "id": "e3901ad2-bbbc-422a-94df-b9656e64c15c",
   "metadata": {},
   "source": [
    "# Group 34: Predicting Subscription Status from Age and Play Time"
   ]
  },
  {
   "cell_type": "code",
   "execution_count": null,
   "id": "e0b59526-8206-4e22-b932-9f7e446a1001",
   "metadata": {},
   "outputs": [],
   "source": [
    "library(tidyverse)\n",
    "library(repr)\n",
    "library(tidymodels)\n",
    "library(readr)\n",
    "library(ggplot2)\n",
    "library(dplyr)\n",
    "library(RColorBrewer)\n",
    "options(repr.matrix.max.rows = 6)"
   ]
  },
  {
   "cell_type": "markdown",
   "id": "d1c0c0cc-576f-44e7-9d8e-73bda058ecb5",
   "metadata": {},
   "source": [
    "## Introduction"
   ]
  },
  {
   "cell_type": "markdown",
   "id": "8265327a-4155-4447-87ff-e5162cd66601",
   "metadata": {},
   "source": [
    "As more improvements and innovations have been made in different aspects of video games such as mode and style design, video games started to play significant roles in the daily lives of individuals. A research group in the Computer Science department at the University of British Columbia (UBC), led by Professor Frank Wood, has established a Minecraft research server to collect data on how people interact within the game environment (1). Specifically, this research group collected two datasets, the players.csv summarized data about player information, and the sessions.csv which summarizes playing sessions. Our report further analyzes the data collected by this research group to investigate a specific question: Can total played hours and age predict subscription in the players.csv dataset? It is expected that players with greater played hours and a younger age would tend to subscribe the game-related newsletter.\n",
    "<br>\n",
    "<br>\n",
    "In the players.csv dataset, there are 196 observations with 7 variables, summarizing players' information on the Minecraft server. Numerical data contains played hours and player age, character data contains the level of experience on the game, hashed email (user identifier), name of the players, and gender of the players. Logical data contains the status of the subscription to a game-related newsletter."
   ]
  },
  {
   "cell_type": "markdown",
   "id": "9f19c00d-d130-4c03-8686-997eed59c633",
   "metadata": {},
   "source": [
    "## Methods"
   ]
  },
  {
   "cell_type": "markdown",
   "id": "5c0cc493-e41a-4ad8-9add-88bdda219404",
   "metadata": {},
   "source": [
    "### Wrangling"
   ]
  },
  {
   "cell_type": "code",
   "execution_count": null,
   "id": "de2d7b5a-d4b5-4c04-bcac-b9f6355f5e2d",
   "metadata": {},
   "outputs": [],
   "source": [
    "url_players <- \"https://raw.githubusercontent.com/lucy-diaz/DSCIprojectgroup34/refs/heads/main/players.csv\"\n",
    "players <- read_csv(url_players)\n",
    "players"
   ]
  },
  {
   "cell_type": "code",
   "execution_count": null,
   "id": "669cb5f7-f0e1-4006-bed3-4565165eedf2",
   "metadata": {},
   "outputs": [],
   "source": [
    "tidy_player<- players|>\n",
    "        mutate(experience = factor(experience), gender = factor(gender),subscribe=factor(subscribe))\n",
    "tidy_player\n",
    "\n",
    "clean_player<- tidy_player|>\n",
    "                select(subscribe,played_hours,Age)|>\n",
    "                filter(played_hours!=0.0)|>\n",
    "                filter(!is.na(Age))\n",
    "\n",
    "clean_player\n"
   ]
  },
  {
   "cell_type": "markdown",
   "id": "2131a94a-659b-4f91-a6fe-b5338b2cc80f",
   "metadata": {},
   "source": [
    "### Summary"
   ]
  },
  {
   "cell_type": "markdown",
   "id": "71e9b879-c962-4790-b4ab-1881a87e745b",
   "metadata": {},
   "source": [
    "We used Knn-Classification to test if the age and playtime of players can predict their subscription status. Firstly, we wrangled the data to keep only the 3 variables needed, subscribe, played_hours and Age. Secondly, we split the data into training and testing in a 75:25 split. Once this was completed, the K value was chosen through cross-validation in a 5 fold split and the analysis completed using K = 7. We trained the model using the training data and then applied it to the testing data, creating a confusion matrix to interpret the recall/precision of our model."
   ]
  },
  {
   "cell_type": "markdown",
   "id": "4637a0c3-f393-4c97-964d-f9cb9e948ae2",
   "metadata": {},
   "source": [
    "### Visialization of Data Set"
   ]
  },
  {
   "cell_type": "code",
   "execution_count": null,
   "id": "0123c3e3-030d-4b42-abb7-a17231fdda71",
   "metadata": {},
   "outputs": [],
   "source": [
    "options(repr.plot.width = 12, repr.plot.height = 11)\n",
    "age_average_played_hours <- clean_player |> group_by(Age, subscribe)|> summarize(average_played_hours = mean(played_hours))|>\n",
    "ggplot(aes(x= Age, y= average_played_hours, color = subscribe))+\n",
    "geom_point()+\n",
    "labs(x= \"Age\", y= \"Average Played hours\", title = \"Figure 1: Average Played Hours vs Age\", color = \"Subscription Status\")+\n",
    "theme(text = element_text(size = 20))\n",
    "age_average_played_hours"
   ]
  },
  {
   "cell_type": "code",
   "execution_count": null,
   "id": "610285cc-8bcd-4625-818e-a629b71e5405",
   "metadata": {},
   "outputs": [],
   "source": [
    "options(repr.plot.width = 12, repr.plot.height = 11)\n",
    "age_observations <- clean_player |>\n",
    "ggplot(aes(x= Age, fill = subscribe))+\n",
    "geom_histogram(binwidth = 1.5)+\n",
    "labs(x= \"Age\", y= \"Number of Players\", title = \"Figure 2: Number of Players per Age and Subscription Status\", fill = \"Subscribed\")+\n",
    "theme(text = element_text(size = 20))\n",
    "age_observations"
   ]
  },
  {
   "cell_type": "markdown",
   "id": "3cd1f6a2-dd18-44e2-92ef-7fd0b9818808",
   "metadata": {},
   "source": [
    "### Analysis"
   ]
  },
  {
   "cell_type": "code",
   "execution_count": null,
   "id": "46aac4f7-ec6d-48f5-a1a8-eb71b13b5a8e",
   "metadata": {},
   "outputs": [],
   "source": [
    "\n",
    "set.seed(123)\n",
    "\n",
    "# Split the data into training (75%) and testing (25%) sets using initial_split()\n",
    "split <- initial_split(clean_player, prop = 0.75, strata = subscribe)\n",
    "train_data <- training(split)\n",
    "test_data  <- testing(split)\n",
    "\n",
    "# Create a recipe to center and scale the predictors (Age and played_hours)\n",
    "rec <- recipe(subscribe ~ Age + played_hours, data = train_data) |>\n",
    "  step_center(all_predictors()) |>\n",
    "  step_scale(all_predictors())\n",
    "\n",
    "# Specify a KNN model with neighbors to be tuned using nearest_neighbor()\n",
    "knn_mod <- nearest_neighbor(neighbors = tune()) |>\n",
    "  set_engine(\"kknn\") |>\n",
    "  set_mode(\"classification\")\n",
    "\n",
    "# Create a workflow combining the recipe and the KNN model\n",
    "wf <- workflow() |>\n",
    "  add_recipe(rec) |>\n",
    "  add_model(knn_mod)\n",
    "\n",
    "# Set up 5-fold cross-validation on the training data using vfold_cv()\n",
    "cv_folds <- vfold_cv(train_data, v = 5, strata = subscribe)\n",
    "\n",
    "# Create a grid of k values to test (from 1 to 10) using tibble()\n",
    "grid_vals <- tibble(neighbors = 1:10)\n",
    "\n",
    "# Tune the model using tune_grid() with the defined cross-validation folds and grid\n",
    "tune_results <- tune_grid(wf, resamples = cv_folds, grid = grid_vals)\n",
    "\n",
    "# Collect the metrics and select the best k based on accuracy\n",
    "metrics <- collect_metrics(tune_results)\n",
    "best_k <- metrics |>\n",
    "  filter(.metric == \"accuracy\") |>\n",
    "  arrange(desc(mean)) |>\n",
    "  slice(1) |>\n",
    "  pull(neighbors)\n",
    "cat(\"Best k selected:\", best_k, \"\\n\")\n",
    "\n",
    "# Finalize the KNN model using the best k\n",
    "final_knn_mod <- nearest_neighbor(neighbors = best_k) |>\n",
    "  set_engine(\"kknn\") |>\n",
    "  set_mode(\"classification\")\n",
    "final_wf <- workflow() |>\n",
    "  add_recipe(rec) |>\n",
    "  add_model(final_knn_mod)\n",
    "final_fit <- fit(final_wf, data = train_data)\n",
    "\n",
    "# Predict subscription status on the testing data\n",
    "predictions <- predict(final_fit, new_data = test_data) |>\n",
    "  bind_cols(test_data)\n",
    "predictions\n"
   ]
  },
  {
   "cell_type": "markdown",
   "id": "43863b0d-b150-4ceb-9b71-72f7ef3c5cac",
   "metadata": {},
   "source": [
    "### Analysis Visualization "
   ]
  },
  {
   "cell_type": "code",
   "execution_count": null,
   "id": "3cdfb105-5e53-4e1c-8244-476fbe85b633",
   "metadata": {},
   "outputs": [],
   "source": [
    "#Accuracy VS K plot\n",
    "Acc_vs_k_plot<-collect_metrics(tune_results) |>\n",
    "  filter(.metric == \"accuracy\") |>\n",
    "  ggplot(aes(x = neighbors, y = mean)) +\n",
    "  geom_line() +\n",
    "  geom_point() +\n",
    "  labs(\n",
    "    title = \"Model Accuracy vs. k\",\n",
    "    x = \"Number of Neighbors (k)\",\n",
    "    y = \"Accuracy\"\n",
    "  )\n",
    "\n",
    "Acc_vs_k_plot"
   ]
  },
  {
   "cell_type": "code",
   "execution_count": null,
   "id": "8c688dfd-ea5b-47db-b196-e7793c69d149",
   "metadata": {},
   "outputs": [],
   "source": [
    "# --- Basic Visualization ---\n",
    "# Scatter plot of testing data: Age vs. played_hours colored by predicted subscription status\n",
    "predictions |>\n",
    "  ggplot(aes(x = Age, y = played_hours, color = .pred_class)) +\n",
    "  geom_point(alpha = 0.7, size = 2) +\n",
    "  labs(\n",
    "    title = paste(\"KNN Prediction: Subscription Status (k =\", best_k, \")\"),\n",
    "    x = \"Player Age (scaled)\",\n",
    "    y = \"Total Hours Played (scaled)\",\n",
    "    color = \"Predicted Status\")\n",
    " \n",
    "\n",
    "predictions"
   ]
  },
  {
   "cell_type": "code",
   "execution_count": null,
   "id": "53170389-0454-40c0-ad9a-93b80a38bdfa",
   "metadata": {},
   "outputs": [],
   "source": [
    "library(yardstick)\n",
    "\n",
    "pred_matrix<- conf_mat(predictions, truth = subscribe, estimate = .pred_class) |>\n",
    "  autoplot(type = \"heatmap\") +\n",
    "  labs(title = \"Confusion Matrix (KNN Predictions)\")\n",
    "\n",
    "pred_matrix\n",
    "\n",
    "metrics<-predictions|>\n",
    "    metrics(truth=subscribe, estimate=.pred_class)|>\n",
    "    filter(.metric==\"accuracy\")\n",
    "\n",
    "metrics\n",
    "      "
   ]
  },
  {
   "cell_type": "markdown",
   "id": "a13e31bc-eb77-4d50-825d-1004e9803876",
   "metadata": {},
   "source": [
    "## Discussion\n",
    "\n",
    "### Summary of Findings\n",
    "\n",
    "### Hypothesis vs Results\n",
    "\n",
    "The objective has been met, as our model can predict subscription with Age and Played hours with a pretty high accuracy of 78.6%. We hypothesized that players with greater played hours and a younger age would tend to subscribe to the game-related newsletter. According to KNN prediction: Subscription Status (k=7) graph, a dense cluster of the data points from age 13-25 indicated \"TRUE\" for the subscription, which supports how a younger age tends to subscribe more. However, a dense cluster of data points below 25 hours played time still shows mostly TRUE predictions for subscription, which does not support the hypothesis. Overall, the hypothesis is not supported.\n",
    "### Impact\n",
    "\n",
    "### Future Analysis"
   ]
  },
  {
   "cell_type": "markdown",
   "id": "ed048b4e-70cc-46fb-9450-94f0ba7d78c7",
   "metadata": {},
   "source": [
    "### Reference\n",
    "(1)The University of British Columbia. (n.d.). Retrieved March 29, 2025, from https://canvas.ubc.ca/courses/153254/assignments/2055150?module_item_id=7644030\n"
   ]
  }
 ],
 "metadata": {
  "kernelspec": {
   "display_name": "R",
   "language": "R",
   "name": "ir"
  },
  "language_info": {
   "codemirror_mode": "r",
   "file_extension": ".r",
   "mimetype": "text/x-r-source",
   "name": "R",
   "pygments_lexer": "r",
   "version": "4.3.3"
  }
 },
 "nbformat": 4,
 "nbformat_minor": 5
}
