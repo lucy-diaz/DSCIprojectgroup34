{
 "cells": [
  {
   "cell_type": "markdown",
   "id": "e3901ad2-bbbc-422a-94df-b9656e64c15c",
   "metadata": {},
   "source": [
    "# Group 34: Predicting Subscription Status from Age and Play Time"
   ]
  },
  {
   "cell_type": "code",
   "execution_count": null,
   "id": "e0b59526-8206-4e22-b932-9f7e446a1001",
   "metadata": {},
   "outputs": [],
   "source": [
    "library(tidyverse)\n",
    "url_sessions <- \"https://raw.githubusercontent.com/lucy-diaz/DSCIprojectgroup34/refs/heads/main/sessions.csv\"\n",
    "sessions <- read_csv(url_sessions)\n",
    "url_players <- \"https://raw.githubusercontent.com/lucy-diaz/DSCIprojectgroup34/refs/heads/main/players.csv\"\n",
    "players <- read_csv(url_players)"
   ]
  },
  {
   "cell_type": "markdown",
   "id": "d1c0c0cc-576f-44e7-9d8e-73bda058ecb5",
   "metadata": {},
   "source": [
    "## Introduction"
   ]
  },
  {
   "cell_type": "markdown",
   "id": "8265327a-4155-4447-87ff-e5162cd66601",
   "metadata": {},
   "source": [
    "As more improvements and innovations have been made on different aspects of video games such as mode and style design, video games start to play significant roles in the dailylifes of individuals. A research group in Computer Science department at the University of British Columbia (UBC), led by Professor Frank Wood, has established a Minecraft research server to collect data on how people interact within the game environment.\n",
    "\n",
    "Managing this kind of research server involves more than just collecting data. Stakeholders need to ensure the server is prepared to handle fluctuations in player activity, particularly when it comes to recruiting new users or planning resource allocation. A critical challenge lies in predicting user engagement—who is likely to subscribe and continue playing, and how player characteristics may influence that decision."
   ]
  },
  {
   "cell_type": "markdown",
   "id": "9f19c00d-d130-4c03-8686-997eed59c633",
   "metadata": {},
   "source": [
    "## Methods"
   ]
  },
  {
   "cell_type": "markdown",
   "id": "5c0cc493-e41a-4ad8-9add-88bdda219404",
   "metadata": {},
   "source": [
    "### Wrangling"
   ]
  },
  {
   "cell_type": "markdown",
   "id": "2131a94a-659b-4f91-a6fe-b5338b2cc80f",
   "metadata": {},
   "source": [
    "### Summary"
   ]
  },
  {
   "cell_type": "markdown",
   "id": "4637a0c3-f393-4c97-964d-f9cb9e948ae2",
   "metadata": {},
   "source": [
    "### Visialization of Data Set"
   ]
  },
  {
   "cell_type": "markdown",
   "id": "3cd1f6a2-dd18-44e2-92ef-7fd0b9818808",
   "metadata": {},
   "source": [
    "### Analysis"
   ]
  },
  {
   "cell_type": "markdown",
   "id": "43863b0d-b150-4ceb-9b71-72f7ef3c5cac",
   "metadata": {},
   "source": [
    "### Analysis Visualization "
   ]
  },
  {
   "cell_type": "markdown",
   "id": "a13e31bc-eb77-4d50-825d-1004e9803876",
   "metadata": {},
   "source": [
    "## Discussion\n",
    "\n",
    "### Summary of Findings\n",
    "\n",
    "### Hypothesis vs Results\n",
    "\n",
    "### Impact\n",
    "\n",
    "### Future Analysis"
   ]
  }
 ],
 "metadata": {
  "kernelspec": {
   "display_name": "R",
   "language": "R",
   "name": "ir"
  },
  "language_info": {
   "codemirror_mode": "r",
   "file_extension": ".r",
   "mimetype": "text/x-r-source",
   "name": "R",
   "pygments_lexer": "r",
   "version": "4.3.3"
  }
 },
 "nbformat": 4,
 "nbformat_minor": 5
}
