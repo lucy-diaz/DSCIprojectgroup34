{
 "cells": [
  {
   "cell_type": "markdown",
   "id": "e3901ad2-bbbc-422a-94df-b9656e64c15c",
   "metadata": {},
   "source": [
    "# Group 34: Predicting Subscription Status from Age and Play Time"
   ]
  }
 ],
 "metadata": {
  "kernelspec": {
   "display_name": "R",
   "language": "R",
   "name": "ir"
  },
  "language_info": {
   "codemirror_mode": "r",
   "file_extension": ".r",
   "mimetype": "text/x-r-source",
   "name": "R",
   "pygments_lexer": "r",
   "version": "4.3.3"
  }
 },
 "nbformat": 4,
 "nbformat_minor": 5
}
